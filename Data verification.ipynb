{
 "cells": [
  {
   "cell_type": "code",
   "execution_count": 24,
   "metadata": {},
   "outputs": [],
   "source": [
    "import pandas as pd"
   ]
  },
  {
   "cell_type": "code",
   "execution_count": 25,
   "metadata": {},
   "outputs": [],
   "source": [
    "df_db_sales = pd.read_csv('C:\\Kate\\Python Scripts\\Python Data Verification\\db_sales.csv')\n",
    "df_dwh_sales = pd.read_excel('C:\\Kate\\Python Scripts\\Python Data Verification\\dwh_sales.xlsx')"
   ]
  },
  {
   "cell_type": "code",
   "execution_count": 27,
   "metadata": {},
   "outputs": [
    {
     "name": "stdout",
     "output_type": "stream",
     "text": [
      "        order_id order_name  net_quantity  gross_sales  returns  net_sales  \\\n",
      "0  6064011378860     #49861            10      12230.0      0.0    12230.0   \n",
      "1  6071666213036     #50095            15      11660.0      0.0    11660.0   \n",
      "2  6048615334060     #49335             7       7535.0      0.0     7535.0   \n",
      "3  6023511834796     #48486             6       6981.6      0.0     6981.6   \n",
      "4  6024325136556     #48525            18       7095.0      0.0     7095.0   \n",
      "\n",
      "     taxes  total_sales  \n",
      "0  1161.88     13391.88  \n",
      "1   895.88     12555.88  \n",
      "2   715.87      8250.87  \n",
      "3   382.56      7364.16  \n",
      "4     0.00      7095.00  \n",
      "Количество строк:  2151\n"
     ]
    }
   ],
   "source": [
    "# df_db_sales\n",
    "#Смотрим структуру файла\n",
    "print(df_db_sales.head())\n",
    "\n",
    "# Считаем строки\n",
    "print('Количество строк: ', len(df_db_sales))"
   ]
  },
  {
   "cell_type": "code",
   "execution_count": 28,
   "metadata": {},
   "outputs": [
    {
     "name": "stdout",
     "output_type": "stream",
     "text": [
      "        order_id  order_number created_at  oders_total_price  line_price  \\\n",
      "0  5721445957804         39642 2023-12-17            8738.12     7980.00   \n",
      "1  5747481936044         40373 2023-12-31             884.87      884.87   \n",
      "2  5793055998124         41536 2024-01-26            1221.88     1150.00   \n",
      "3  5809687527596         42021 2024-02-05             993.03      950.00   \n",
      "4  5822106304684         42420 2024-02-13             851.11      815.50   \n",
      "\n",
      "   closed_at processed_at cancelled_at     refund_id  \n",
      "0        NaN   2023-12-17          NaT  9.034250e+11  \n",
      "1        NaN   2023-12-31   2024-06-05  9.023736e+11  \n",
      "2        NaN   2024-01-26          NaT  9.025257e+11  \n",
      "3        NaN   2024-02-05          NaT  9.031340e+11  \n",
      "4        NaN   2024-02-13          NaT  9.035593e+11  \n",
      "Количество строк:  2147\n"
     ]
    }
   ],
   "source": [
    "# df_dwh_sales\n",
    "#Смотрим структуру файла\n",
    "print(df_dwh_sales.head())\n",
    "\n",
    "# Считаем строки\n",
    "print('Количество строк: ', len(df_dwh_sales))"
   ]
  },
  {
   "cell_type": "code",
   "execution_count": 18,
   "metadata": {},
   "outputs": [
    {
     "name": "stdout",
     "output_type": "stream",
     "text": [
      "2040    5989357519020\n",
      "2045    5825388642476\n",
      "2059    6017930068140\n",
      "2068    5446433407148\n",
      "2126    6000053026988\n",
      "2150    6005156806828\n",
      "Name: order_id, dtype: int64\n",
      "Missing orders  6\n"
     ]
    }
   ],
   "source": [
    "# Смотрим, все ли order_id из источника присутствуют в хранилище данных\n",
    "missing_orders = df_db_sales[~df_db_sales['order_id'].isin(df_dwh_sales['order_id'])]\n",
    "print(missing_orders['order_id'])\n",
    "print('Missing orders ', len(missing_orders))"
   ]
  },
  {
   "cell_type": "code",
   "execution_count": 39,
   "metadata": {},
   "outputs": [
    {
     "name": "stdout",
     "output_type": "stream",
     "text": [
      "           order_id  total_sales  oders_total_price     delta\n",
      "3     6023511834796      7364.16            7726.71   -362.55\n",
      "19    6033277223084      4604.64            4636.44    -31.80\n",
      "30    6048093667500      3875.40            3907.88    -32.48\n",
      "45    6048523419820      3409.89            3442.37    -32.48\n",
      "51    6034238570668      3230.26            4927.52  -1697.26\n",
      "...             ...          ...                ...       ...\n",
      "2140  6011896365228     -2172.06            2172.06  -4344.12\n",
      "2141  6021162926252     -2177.50            2177.50  -4355.00\n",
      "2142  5721445957804     -2184.53            8738.12 -10922.65\n",
      "2143  6013791699116     -2184.53            2184.53  -4369.06\n",
      "2144  6005280243884     -2199.49            2199.49  -4398.98\n",
      "\n",
      "[489 rows x 4 columns]\n"
     ]
    }
   ],
   "source": [
    "# Проверем, есть ли отклонения по total_sales\n",
    "df_merged = pd.merge(df_db_sales[['order_id', 'total_sales']], df_dwh_sales[['order_id', 'oders_total_price']], on='order_id')\n",
    "df_merged['delta'] = df_merged['total_sales'] - df_merged['oders_total_price']\n",
    "df_merged_filtered = df_merged[df_merged['delta']!= 0.00]\n",
    "\n",
    "print(df_merged_filtered)\n",
    "df_merged_filtered.to_csv('C:\\Kate\\Python Scripts\\Python Data Verification\\discrepancy.csv')"
   ]
  }
 ],
 "metadata": {
  "kernelspec": {
   "display_name": "Python 3",
   "language": "python",
   "name": "python3"
  },
  "language_info": {
   "codemirror_mode": {
    "name": "ipython",
    "version": 3
   },
   "file_extension": ".py",
   "mimetype": "text/x-python",
   "name": "python",
   "nbconvert_exporter": "python",
   "pygments_lexer": "ipython3",
   "version": "3.10.0"
  }
 },
 "nbformat": 4,
 "nbformat_minor": 2
}
